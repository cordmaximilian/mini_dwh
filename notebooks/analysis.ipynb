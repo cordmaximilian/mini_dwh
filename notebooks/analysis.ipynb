{
 "cells": [
  {
   "cell_type": "markdown",
   "metadata": {},
   "source": [
    "# DuckDB Exploration\n",
    "This notebook connects to the local DuckDB warehouse and visualizes player efficiency."
   ]
  },
  {
   "cell_type": "code",
   "execution_count": null,
   "metadata": {},
   "outputs": [],
   "source": [
    "import duckdb, pandas as pd, plotly.express as px\n",
    "con = duckdb.connect('data/warehouse.duckdb')"
   ]
  },
  {
   "cell_type": "code",
   "execution_count": null,
   "metadata": {},
   "outputs": [],
   "source": [
    "query = \"""\nSELECT p.first_name || ' ' || p.last_name AS player, e.efficiency\nFROM gold.player_efficiency e\nJOIN silver.players p ON p.player_id = e.player_id\nORDER BY e.efficiency DESC\nLIMIT 10\n"""\n",
    "df = con.execute(query).df()\n",
    "df"
   ]
  },
  {
   "cell_type": "code",
   "execution_count": null,
   "metadata": {},
   "outputs": [],
   "source": [
    "fig = px.bar(df, x='player', y='efficiency', title='Top Player Efficiency')\n",
    "fig.show()"
   ]
  }
 ],
 "metadata": {
  "kernelspec": {
   "display_name": "python3",
   "language": "python",
   "name": "python3"
  },
  "language_info": {
   "name": "python",
   "version": "3.11"
  }
 },
 "nbformat": 4,
 "nbformat_minor": 5
}
